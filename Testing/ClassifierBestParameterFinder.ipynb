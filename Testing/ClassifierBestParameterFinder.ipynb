{
 "cells": [
  {
   "cell_type": "code",
   "execution_count": 775,
   "metadata": {},
   "outputs": [],
   "source": [
    "from sklearn.feature_extraction.text import TfidfVectorizer\n",
    "from sklearn.feature_extraction.text import CountVectorizer\n",
    "from sklearn.naive_bayes import MultinomialNB\n",
    "from sklearn.model_selection import train_test_split, GridSearchCV\n",
    "\n",
    "\n",
    "import nltk\n",
    "import time\n",
    "import string\n",
    "\n",
    "from sklearn import svm\n",
    "from sklearn.metrics import classification_report\n",
    "from sklearn.metrics import confusion_matrix\n",
    "import numpy as np\n",
    "\n",
    "import pandas as pd"
   ]
  },
  {
   "cell_type": "code",
   "execution_count": 432,
   "metadata": {},
   "outputs": [],
   "source": [
    "collectedData = pd.read_csv(\"csvFiles/combined-ratings.csv\")\n",
    "artificialData = pd.read_csv(\"csvFiles/artificialData.csv\")\n",
    "\n",
    "combinedData = pd.concat([collectedData, artificialData])\n",
    "\n",
    "combinedDataDF = combinedData['comment']\n",
    "ratingDataDF = combinedData['label']\n",
    "\n",
    "ratingDataArray = ratingDataDF.values\n"
   ]
  },
  {
   "cell_type": "code",
   "execution_count": 776,
   "metadata": {},
   "outputs": [],
   "source": [
    "import re\n",
    "def preprocess_text(text):\n",
    "    text = re.sub('((www\\.[^\\s]+)|(https?://[^\\s]+))','URL', text)\n",
    "    text = text.lower()\n",
    "    text = re.sub('r/','', text)\n",
    "    text = re.sub('\\[.*?\\]','',text) # the characters in the bracket will be replaced with nothing\n",
    "    text = re.sub('[%s]' % re.escape(string.punctuation),' ', text) # Punctuation replaced with nothing\n",
    "    text = re.sub('\\w*\\d\\w*', '', text) # digits replaced with nothing\n",
    "    return text.strip()\n",
    "data = [preprocess_text(t) for t in combinedDataDF]"
   ]
  },
  {
   "cell_type": "code",
   "execution_count": 777,
   "metadata": {},
   "outputs": [],
   "source": [
    "#creating test and train\n",
    "#x_train, x_test, y_train, y_test = train_test_split(combinedDataDF, ratingDataArray, test_size=0.15, random_state=42)\n",
    "\n",
    "x_train, x_test, y_train, y_test = train_test_split(data, ratingDataArray, test_size=0.25, random_state=42)"
   ]
  },
  {
   "cell_type": "code",
   "execution_count": 828,
   "metadata": {},
   "outputs": [],
   "source": [
    "from sklearn.linear_model            import LogisticRegression\n",
    "\n",
    "# Create a pipeline\n",
    "pipe_1 = Pipeline([\n",
    "    ('cvec', CountVectorizer()),\n",
    "    ('lr', LogisticRegression())\n",
    "])"
   ]
  },
  {
   "cell_type": "code",
   "execution_count": 829,
   "metadata": {},
   "outputs": [
    {
     "name": "stdout",
     "output_type": "stream",
     "text": [
      "Fitting 3 folds for each of 72 candidates, totalling 216 fits\n"
     ]
    },
    {
     "name": "stderr",
     "output_type": "stream",
     "text": [
      "[Parallel(n_jobs=2)]: Using backend LokyBackend with 2 concurrent workers.\n",
      "[Parallel(n_jobs=2)]: Done 216 out of 216 | elapsed:    2.8s finished\n",
      "c:\\users\\nerses\\appdata\\local\\programs\\python\\python37\\lib\\site-packages\\sklearn\\linear_model\\logistic.py:432: FutureWarning: Default solver will be changed to 'lbfgs' in 0.22. Specify a solver to silence this warning.\n",
      "  FutureWarning)\n",
      "c:\\users\\nerses\\appdata\\local\\programs\\python\\python37\\lib\\site-packages\\sklearn\\linear_model\\logistic.py:469: FutureWarning: Default multi_class will be changed to 'auto' in 0.22. Specify the multi_class option to silence this warning.\n",
      "  \"this warning.\", FutureWarning)\n",
      "c:\\users\\nerses\\appdata\\local\\programs\\python\\python37\\lib\\site-packages\\sklearn\\linear_model\\logistic.py:432: FutureWarning: Default solver will be changed to 'lbfgs' in 0.22. Specify a solver to silence this warning.\n",
      "  FutureWarning)\n",
      "c:\\users\\nerses\\appdata\\local\\programs\\python\\python37\\lib\\site-packages\\sklearn\\linear_model\\logistic.py:469: FutureWarning: Default multi_class will be changed to 'auto' in 0.22. Specify the multi_class option to silence this warning.\n",
      "  \"this warning.\", FutureWarning)\n"
     ]
    }
   ],
   "source": [
    "# Find the parameters, gridsearch them, use the best parameters to generate a score\n",
    "pipe_params_1 = {\n",
    "    'lr__penalty': ['l1','l2'],\n",
    "    'cvec__max_features': [100,300, 500],\n",
    "    'cvec__min_df': [2,3],\n",
    "    'cvec__max_df': [.5,.9],\n",
    "    'cvec__ngram_range': [(1,1),(1,2),(3,3)]\n",
    "}\n",
    "\n",
    "# Gridsearch to find the best parameters and fit to training data\n",
    "gs_1 = GridSearchCV(pipe_1, param_grid=pipe_params_1,\n",
    "                  cv=3, \n",
    "                  verbose = 1,\n",
    "                  n_jobs=2)\n",
    "gs_1.fit(x_train, y_train)\n",
    "best_1 = gs_1.best_estimator_\n",
    "best_1.fit(x_train,y_train)\n",
    "y_test_preds_1 = best_1.predict(x_test)"
   ]
  },
  {
   "cell_type": "code",
   "execution_count": 830,
   "metadata": {},
   "outputs": [
    {
     "name": "stdout",
     "output_type": "stream",
     "text": [
      "0.9066901408450704\n",
      "0.6894736842105263\n"
     ]
    },
    {
     "data": {
      "text/html": [
       "<div>\n",
       "<style scoped>\n",
       "    .dataframe tbody tr th:only-of-type {\n",
       "        vertical-align: middle;\n",
       "    }\n",
       "\n",
       "    .dataframe tbody tr th {\n",
       "        vertical-align: top;\n",
       "    }\n",
       "\n",
       "    .dataframe thead th {\n",
       "        text-align: right;\n",
       "    }\n",
       "</style>\n",
       "<table border=\"1\" class=\"dataframe\">\n",
       "  <thead>\n",
       "    <tr style=\"text-align: right;\">\n",
       "      <th></th>\n",
       "      <th>Best Params</th>\n",
       "    </tr>\n",
       "  </thead>\n",
       "  <tbody>\n",
       "    <tr>\n",
       "      <td>cvec__max_df</td>\n",
       "      <td>0.5</td>\n",
       "    </tr>\n",
       "    <tr>\n",
       "      <td>cvec__max_features</td>\n",
       "      <td>500</td>\n",
       "    </tr>\n",
       "    <tr>\n",
       "      <td>cvec__min_df</td>\n",
       "      <td>2</td>\n",
       "    </tr>\n",
       "    <tr>\n",
       "      <td>cvec__ngram_range</td>\n",
       "      <td>2</td>\n",
       "    </tr>\n",
       "    <tr>\n",
       "      <td>lr__penalty</td>\n",
       "      <td>l2</td>\n",
       "    </tr>\n",
       "  </tbody>\n",
       "</table>\n",
       "</div>"
      ],
      "text/plain": [
       "                   Best Params\n",
       "cvec__max_df               0.5\n",
       "cvec__max_features         500\n",
       "cvec__min_df                 2\n",
       "cvec__ngram_range            2\n",
       "lr__penalty                 l2"
      ]
     },
     "execution_count": 830,
     "metadata": {},
     "output_type": "execute_result"
    }
   ],
   "source": [
    "# Develop a score and print\n",
    "y_train_preds_1 = best_1.predict(x_train)\n",
    "print(accuracy_score(y_train, y_train_preds_1))\n",
    "print(accuracy_score(y_test,y_test_preds_1))\n",
    "dfparams = pd.DataFrame(gs_1.best_params_)\n",
    "dfparams = dfparams.drop(index = 0).T\n",
    "dfparams = dfparams.rename(index=str, columns={1: \"Best Params\"})\n",
    "dfparams"
   ]
  },
  {
   "cell_type": "code",
   "execution_count": 781,
   "metadata": {},
   "outputs": [],
   "source": [
    "from sklearn.pipeline                import Pipeline\n",
    "# Code Inspired by Siraj Raval\n",
    "pipe_3 = Pipeline([\n",
    "    ('cvec', CountVectorizer()),\n",
    "    ('mnb', MultinomialNB())\n",
    "])"
   ]
  },
  {
   "cell_type": "code",
   "execution_count": 782,
   "metadata": {},
   "outputs": [
    {
     "name": "stdout",
     "output_type": "stream",
     "text": [
      "Fitting 3 folds for each of 24 candidates, totalling 72 fits\n"
     ]
    },
    {
     "name": "stderr",
     "output_type": "stream",
     "text": [
      "[Parallel(n_jobs=2)]: Using backend LokyBackend with 2 concurrent workers.\n",
      "[Parallel(n_jobs=2)]: Done  72 out of  72 | elapsed:    1.3s finished\n"
     ]
    }
   ],
   "source": [
    "# Find the parameters, gridsearch them, use the best features to generate a score\n",
    "pipe_params_3 = {\n",
    "    'cvec__max_features': [100,500],\n",
    "    'cvec__min_df': [2,3],\n",
    "    'cvec__max_df': [.9,.95],\n",
    "    'cvec__ngram_range': [(1,1),(1,2),(3,3)]\n",
    "}\n",
    "\n",
    "# Gridsearch to find the best parameters and fit to training data\n",
    "gs_3 = GridSearchCV(pipe_3, \n",
    "                   param_grid=pipe_params_3, \n",
    "                   cv = 3,\n",
    "                   verbose = 1,\n",
    "                   n_jobs = 2)\n",
    "\n",
    "gs_3.fit(x_train, y_train)\n",
    "best_3 = gs_3.best_estimator_\n",
    "best_3.fit(x_train,y_train)\n",
    "y_test_preds_3 = best_3.predict(x_test)"
   ]
  },
  {
   "cell_type": "code",
   "execution_count": 783,
   "metadata": {},
   "outputs": [
    {
     "name": "stdout",
     "output_type": "stream",
     "text": [
      "0.7394366197183099\n",
      "0.6578947368421053\n"
     ]
    },
    {
     "data": {
      "text/html": [
       "<div>\n",
       "<style scoped>\n",
       "    .dataframe tbody tr th:only-of-type {\n",
       "        vertical-align: middle;\n",
       "    }\n",
       "\n",
       "    .dataframe tbody tr th {\n",
       "        vertical-align: top;\n",
       "    }\n",
       "\n",
       "    .dataframe thead th {\n",
       "        text-align: right;\n",
       "    }\n",
       "</style>\n",
       "<table border=\"1\" class=\"dataframe\">\n",
       "  <thead>\n",
       "    <tr style=\"text-align: right;\">\n",
       "      <th></th>\n",
       "      <th>Best Params</th>\n",
       "    </tr>\n",
       "  </thead>\n",
       "  <tbody>\n",
       "    <tr>\n",
       "      <td>cvec__max_df</td>\n",
       "      <td>0.9</td>\n",
       "    </tr>\n",
       "    <tr>\n",
       "      <td>cvec__max_features</td>\n",
       "      <td>100.0</td>\n",
       "    </tr>\n",
       "    <tr>\n",
       "      <td>cvec__min_df</td>\n",
       "      <td>2.0</td>\n",
       "    </tr>\n",
       "    <tr>\n",
       "      <td>cvec__ngram_range</td>\n",
       "      <td>1.0</td>\n",
       "    </tr>\n",
       "  </tbody>\n",
       "</table>\n",
       "</div>"
      ],
      "text/plain": [
       "                    Best Params\n",
       "cvec__max_df                0.9\n",
       "cvec__max_features        100.0\n",
       "cvec__min_df                2.0\n",
       "cvec__ngram_range           1.0"
      ]
     },
     "execution_count": 783,
     "metadata": {},
     "output_type": "execute_result"
    }
   ],
   "source": [
    "\n",
    "# Develop a score and print\n",
    "y_train_preds_3 = best_3.predict(x_train)\n",
    "print(accuracy_score(y_train, y_train_preds_3))\n",
    "print(accuracy_score(y_test,y_test_preds_3))\n",
    "dfparams_3 = pd.DataFrame(gs_3.best_params_)\n",
    "dfparams_3 = dfparams_3.drop(index = 0).T\n",
    "dfparams_3 = dfparams_3.rename(index=str, columns={1: \"Best Params\"})\n",
    "dfparams_3"
   ]
  },
  {
   "cell_type": "code",
   "execution_count": null,
   "metadata": {},
   "outputs": [],
   "source": []
  },
  {
   "cell_type": "code",
   "execution_count": 784,
   "metadata": {},
   "outputs": [],
   "source": [
    "# Code Inspired by Siraj Raval\n",
    "pipe_4 = Pipeline([\n",
    "    ('tfidf', TfidfVectorizer()),\n",
    "    ('mnb', MultinomialNB())\n",
    "])"
   ]
  },
  {
   "cell_type": "code",
   "execution_count": 785,
   "metadata": {},
   "outputs": [],
   "source": [
    "# Find the parameters, gridsearch them, use the best features to generate a score\n",
    "pipe_params_4 = {\n",
    "    'tfidf__max_features': [100,200,300, 400, 500],\n",
    "    'tfidf__min_df': [2,3],\n",
    "    'tfidf__max_df': [.9,.95],\n",
    "    'tfidf__ngram_range': [(1,1),(1,2),(3,3)]\n",
    "}"
   ]
  },
  {
   "cell_type": "code",
   "execution_count": 786,
   "metadata": {},
   "outputs": [
    {
     "name": "stderr",
     "output_type": "stream",
     "text": [
      "[Parallel(n_jobs=2)]: Using backend LokyBackend with 2 concurrent workers.\n"
     ]
    },
    {
     "name": "stdout",
     "output_type": "stream",
     "text": [
      "Fitting 3 folds for each of 60 candidates, totalling 180 fits\n"
     ]
    },
    {
     "name": "stderr",
     "output_type": "stream",
     "text": [
      "[Parallel(n_jobs=2)]: Done 174 tasks      | elapsed:    2.2s\n",
      "[Parallel(n_jobs=2)]: Done 180 out of 180 | elapsed:    2.3s finished\n"
     ]
    }
   ],
   "source": [
    "# Gridsearch to find the best parameters and fit to training data\n",
    "gs_4 = GridSearchCV(pipe_4, \n",
    "                   param_grid=pipe_params_4, \n",
    "                   cv = 3,\n",
    "                   verbose = 1,\n",
    "                   n_jobs = 2)\n",
    "\n",
    "gs_4.fit(x_train, y_train)\n",
    "best_4 = gs_4.best_estimator_\n",
    "best_4.fit(x_train,y_train)\n",
    "y_test_preds_4 = best_4.predict(x_test)"
   ]
  },
  {
   "cell_type": "code",
   "execution_count": 787,
   "metadata": {},
   "outputs": [
    {
     "name": "stdout",
     "output_type": "stream",
     "text": [
      "0.6672535211267606\n",
      "0.6421052631578947\n"
     ]
    },
    {
     "data": {
      "text/html": [
       "<div>\n",
       "<style scoped>\n",
       "    .dataframe tbody tr th:only-of-type {\n",
       "        vertical-align: middle;\n",
       "    }\n",
       "\n",
       "    .dataframe tbody tr th {\n",
       "        vertical-align: top;\n",
       "    }\n",
       "\n",
       "    .dataframe thead th {\n",
       "        text-align: right;\n",
       "    }\n",
       "</style>\n",
       "<table border=\"1\" class=\"dataframe\">\n",
       "  <thead>\n",
       "    <tr style=\"text-align: right;\">\n",
       "      <th></th>\n",
       "      <th>Best Params</th>\n",
       "    </tr>\n",
       "  </thead>\n",
       "  <tbody>\n",
       "    <tr>\n",
       "      <td>tfidf__max_df</td>\n",
       "      <td>0.9</td>\n",
       "    </tr>\n",
       "    <tr>\n",
       "      <td>tfidf__max_features</td>\n",
       "      <td>100.0</td>\n",
       "    </tr>\n",
       "    <tr>\n",
       "      <td>tfidf__min_df</td>\n",
       "      <td>2.0</td>\n",
       "    </tr>\n",
       "    <tr>\n",
       "      <td>tfidf__ngram_range</td>\n",
       "      <td>2.0</td>\n",
       "    </tr>\n",
       "  </tbody>\n",
       "</table>\n",
       "</div>"
      ],
      "text/plain": [
       "                     Best Params\n",
       "tfidf__max_df                0.9\n",
       "tfidf__max_features        100.0\n",
       "tfidf__min_df                2.0\n",
       "tfidf__ngram_range           2.0"
      ]
     },
     "execution_count": 787,
     "metadata": {},
     "output_type": "execute_result"
    }
   ],
   "source": [
    "# Develop a score and print\n",
    "y_train_preds_4 = best_4.predict(x_train)\n",
    "print(accuracy_score(y_train, y_train_preds_4))\n",
    "print(accuracy_score(y_test,y_test_preds_4))\n",
    "dfparams_4 = pd.DataFrame(gs_4.best_params_)\n",
    "dfparams_4 = dfparams_4.drop(index = 0).T\n",
    "dfparams_4 = dfparams_4.rename(index=str, columns={1: \"Best Params\"})\n",
    "dfparams_4"
   ]
  },
  {
   "cell_type": "code",
   "execution_count": null,
   "metadata": {},
   "outputs": [],
   "source": []
  },
  {
   "cell_type": "code",
   "execution_count": null,
   "metadata": {},
   "outputs": [],
   "source": []
  },
  {
   "cell_type": "code",
   "execution_count": null,
   "metadata": {},
   "outputs": [],
   "source": [
    "#Process intensive dont run RandomForest unless you want to wait"
   ]
  },
  {
   "cell_type": "code",
   "execution_count": 739,
   "metadata": {},
   "outputs": [],
   "source": [
    "from sklearn.ensemble                import RandomForestClassifier\n",
    "\n",
    "pipe_5 = Pipeline([\n",
    "    ('cvec', CountVectorizer()),\n",
    "    ('rfc', RandomForestClassifier())])"
   ]
  },
  {
   "cell_type": "code",
   "execution_count": 740,
   "metadata": {},
   "outputs": [],
   "source": [
    "\n",
    "# Find the parameters, gridsearch them, use the best features to generate a score\n",
    "pipe_params_5 = [{\n",
    "    'cvec__max_features': [300, 400, 500],\n",
    "    'cvec__min_df': [2,3],\n",
    "    'cvec__max_df': [.9],\n",
    "    'cvec__ngram_range': [(1,1),(1,2)],\n",
    "    'rfc__bootstrap': [False, True],\n",
    "    'rfc__n_estimators': [100, 110, 120],\n",
    "    'rfc__max_features': [.5, .6, .7],\n",
    "    'rfc__min_samples_leaf': [10,12, 14],\n",
    "    'rfc__min_samples_split':[3,5,7]\n",
    "}]"
   ]
  },
  {
   "cell_type": "code",
   "execution_count": 741,
   "metadata": {},
   "outputs": [
    {
     "name": "stdout",
     "output_type": "stream",
     "text": [
      "Fits: 5832\n"
     ]
    }
   ],
   "source": [
    "# Since random forest has more features, consider how many fits you will have to do before running\n",
    "lst = []\n",
    "count = 0\n",
    "for i in pipe_params_5[0]:\n",
    "    count = 0\n",
    "    for j in pipe_params_5[0][i]:\n",
    "        count += 1\n",
    "    lst.append(count)\n",
    "\n",
    "first = lst[0]\n",
    "num = 1\n",
    "for i in lst:\n",
    "    num*=i\n",
    "print(f'Fits: {num*3}')"
   ]
  },
  {
   "cell_type": "code",
   "execution_count": 742,
   "metadata": {},
   "outputs": [
    {
     "name": "stdout",
     "output_type": "stream",
     "text": [
      "Fitting 3 folds for each of 1944 candidates, totalling 5832 fits\n"
     ]
    },
    {
     "name": "stderr",
     "output_type": "stream",
     "text": [
      "[Parallel(n_jobs=-1)]: Using backend LokyBackend with 4 concurrent workers.\n",
      "[Parallel(n_jobs=-1)]: Done  42 tasks      | elapsed:    3.0s\n",
      "[Parallel(n_jobs=-1)]: Done 192 tasks      | elapsed:   10.5s\n",
      "[Parallel(n_jobs=-1)]: Done 442 tasks      | elapsed:   23.4s\n",
      "[Parallel(n_jobs=-1)]: Done 792 tasks      | elapsed:   42.7s\n",
      "[Parallel(n_jobs=-1)]: Done 1242 tasks      | elapsed:  1.1min\n",
      "[Parallel(n_jobs=-1)]: Done 1792 tasks      | elapsed:  1.7min\n",
      "[Parallel(n_jobs=-1)]: Done 2442 tasks      | elapsed:  2.2min\n",
      "[Parallel(n_jobs=-1)]: Done 3192 tasks      | elapsed:  2.9min\n",
      "[Parallel(n_jobs=-1)]: Done 4042 tasks      | elapsed:  3.7min\n",
      "[Parallel(n_jobs=-1)]: Done 4992 tasks      | elapsed:  4.6min\n",
      "[Parallel(n_jobs=-1)]: Done 5832 out of 5832 | elapsed:  5.4min finished\n"
     ]
    }
   ],
   "source": [
    "# Gridsearch to find the best parameters and fit to training data\n",
    "gs_5 = GridSearchCV(pipe_5, \n",
    "                   param_grid=pipe_params_5, \n",
    "                   cv = 3,\n",
    "                   verbose = 1,\n",
    "                   n_jobs = -1)\n",
    "\n",
    "gs_5.fit(x_train, y_train)\n",
    "best_5 = gs_5.best_estimator_\n",
    "best_5.fit(x_train,y_train)\n",
    "y_test_preds_5 = best_5.predict(x_test)"
   ]
  },
  {
   "cell_type": "code",
   "execution_count": 743,
   "metadata": {},
   "outputs": [
    {
     "name": "stdout",
     "output_type": "stream",
     "text": [
      "0.6901408450704225\n",
      "0.6631578947368421\n"
     ]
    },
    {
     "data": {
      "text/html": [
       "<div>\n",
       "<style scoped>\n",
       "    .dataframe tbody tr th:only-of-type {\n",
       "        vertical-align: middle;\n",
       "    }\n",
       "\n",
       "    .dataframe tbody tr th {\n",
       "        vertical-align: top;\n",
       "    }\n",
       "\n",
       "    .dataframe thead th {\n",
       "        text-align: right;\n",
       "    }\n",
       "</style>\n",
       "<table border=\"1\" class=\"dataframe\">\n",
       "  <thead>\n",
       "    <tr style=\"text-align: right;\">\n",
       "      <th></th>\n",
       "      <th>Best Params</th>\n",
       "    </tr>\n",
       "  </thead>\n",
       "  <tbody>\n",
       "    <tr>\n",
       "      <td>cvec__max_df</td>\n",
       "      <td>0.9</td>\n",
       "    </tr>\n",
       "    <tr>\n",
       "      <td>cvec__max_features</td>\n",
       "      <td>300</td>\n",
       "    </tr>\n",
       "    <tr>\n",
       "      <td>cvec__min_df</td>\n",
       "      <td>2</td>\n",
       "    </tr>\n",
       "    <tr>\n",
       "      <td>cvec__ngram_range</td>\n",
       "      <td>1</td>\n",
       "    </tr>\n",
       "    <tr>\n",
       "      <td>rfc__bootstrap</td>\n",
       "      <td>False</td>\n",
       "    </tr>\n",
       "    <tr>\n",
       "      <td>rfc__max_features</td>\n",
       "      <td>0.5</td>\n",
       "    </tr>\n",
       "    <tr>\n",
       "      <td>rfc__min_samples_leaf</td>\n",
       "      <td>12</td>\n",
       "    </tr>\n",
       "    <tr>\n",
       "      <td>rfc__min_samples_split</td>\n",
       "      <td>3</td>\n",
       "    </tr>\n",
       "    <tr>\n",
       "      <td>rfc__n_estimators</td>\n",
       "      <td>110</td>\n",
       "    </tr>\n",
       "  </tbody>\n",
       "</table>\n",
       "</div>"
      ],
      "text/plain": [
       "                       Best Params\n",
       "cvec__max_df                   0.9\n",
       "cvec__max_features             300\n",
       "cvec__min_df                     2\n",
       "cvec__ngram_range                1\n",
       "rfc__bootstrap               False\n",
       "rfc__max_features              0.5\n",
       "rfc__min_samples_leaf           12\n",
       "rfc__min_samples_split           3\n",
       "rfc__n_estimators              110"
      ]
     },
     "execution_count": 743,
     "metadata": {},
     "output_type": "execute_result"
    }
   ],
   "source": [
    "# Develop a score and print\n",
    "y_train_preds_5 = best_5.predict(x_train)\n",
    "print(accuracy_score(y_train, y_train_preds_5))\n",
    "print(accuracy_score(y_test,y_test_preds_5))\n",
    "dfparams_5 = pd.DataFrame(gs_5.best_params_)\n",
    "dfparams_5 = dfparams_5.drop(index = 0).T\n",
    "dfparams_5 = dfparams_5.rename(index=str, columns={1: \"Best Params\"})\n",
    "dfparams_5"
   ]
  },
  {
   "cell_type": "code",
   "execution_count": null,
   "metadata": {},
   "outputs": [],
   "source": []
  }
 ],
 "metadata": {
  "kernelspec": {
   "display_name": "Python 3",
   "language": "python",
   "name": "python3"
  },
  "language_info": {
   "codemirror_mode": {
    "name": "ipython",
    "version": 3
   },
   "file_extension": ".py",
   "mimetype": "text/x-python",
   "name": "python",
   "nbconvert_exporter": "python",
   "pygments_lexer": "ipython3",
   "version": "3.7.7"
  }
 },
 "nbformat": 4,
 "nbformat_minor": 2
}
