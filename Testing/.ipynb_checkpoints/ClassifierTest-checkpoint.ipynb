{
 "cells": [
  {
   "cell_type": "code",
   "execution_count": 7,
   "metadata": {},
   "outputs": [],
   "source": [
    "from textblob import TextBlob\n",
    "import nltk"
   ]
  },
  {
   "cell_type": "code",
   "execution_count": 6,
   "metadata": {},
   "outputs": [
    {
     "name": "stderr",
     "output_type": "stream",
     "text": [
      "[nltk_data] Downloading package punkt to\n",
      "[nltk_data]     C:\\Users\\Nerses\\AppData\\Roaming\\nltk_data...\n",
      "[nltk_data]   Unzipping tokenizers\\punkt.zip.\n"
     ]
    },
    {
     "data": {
      "text/plain": [
       "True"
      ]
     },
     "execution_count": 6,
     "metadata": {},
     "output_type": "execute_result"
    }
   ],
   "source": [
    "nltk.download('punkt')"
   ]
  },
  {
   "cell_type": "code",
   "execution_count": 19,
   "metadata": {},
   "outputs": [],
   "source": [
    "train =[\n",
    "    ('This bear needs a tree to sleep under 🐻','neg'),\n",
    "    ('Green baby, green.','pos'),\n",
    "    ('LETS GO, GREEN DAY, MY ACCOUNT NEEDS TO RECOVER 😭','pos'),\n",
    "    ('Future is up bigly. Bears r fuk','pos'),\n",
    "    ('If we are not red tmrw, I SWEAR I AM NEVER USING TA AGAIN','neg'),\n",
    "    ('Sir, this is a casino. Hit or stay.','neutral'),\n",
    "    ('Snap will fall hard Monday :)','neg'),\n",
    "    ('I demand to speak to the manager of coronavirus','neutral'),\n",
    "    ('Futures blood red!!','neg'),\n",
    "    ('Futures green (+0.05) Bears are so fucked','pos')\n",
    "]\n",
    "test =[\n",
    "    ('Powell is out in the woods, bear hunting.','pos'),\n",
    "    ('Oil drilling = futures going up','pos'),\n",
    "    ('Limit up 🌝🌝🌝🌝before open','pos'),\n",
    "    ('If you didn\\'t buy snap puts today, u should quit trading','neg'),\n",
    "    ('Sir, this is a casino. Hit or stay.','neutral')\n",
    "]\n",
    "\n",
    "\n",
    "        "
   ]
  },
  {
   "cell_type": "code",
   "execution_count": 26,
   "metadata": {},
   "outputs": [],
   "source": [
    "from textblob.classifiers import NaiveBayesClassifier\n",
    "from textblob.classifiers import DecisionTreeClassifier\n",
    "\n",
    "filename1=\"What Are Your Moves Tomorrow, April 15, 2020_g1duq3.csvTagged\"\n",
    "filename2=\"stripped\"\n",
    "\n",
    "filename=\"combined_csv\"\n",
    "\n",
    "\n",
    "\n",
    "with open(filename+'.csv', encoding=\"utf8\") as csvfile:\n",
    "        cl=NaiveBayesClassifier(csvfile, format=\"csv\")\n",
    "        dtc=DecisionTreeClassifier(csvfile,format=\"csv\")"
   ]
  },
  {
   "cell_type": "code",
   "execution_count": 30,
   "metadata": {},
   "outputs": [
    {
     "name": "stdout",
     "output_type": "stream",
     "text": [
      "expect:pos pred:neutral incorrect Powell is out in the woods, bear hunting.\n",
      "expect:pos pred:neutral incorrect Oil drilling = futures going up\n",
      "expect:pos pred:neutral incorrect Limit up 🌝🌝🌝🌝before open\n",
      "expect:neg pred:neutral incorrect If you didn't buy snap puts today, u should quit trading\n",
      "expect:neutral pred:neutral correct Sir, this is a casino. Hit or stay.\n"
     ]
    }
   ],
   "source": [
    "for comment in test:\n",
    "    prediction=(cl.classify(comment))\n",
    "    if(comment[1]==prediction):\n",
    "        print('expect:'+comment[1]+' pred:'+prediction+' correct ' + comment[0])\n",
    "    else:    \n",
    "        print('expect:'+comment[1]+' pred:'+prediction+' incorrect ' + comment[0])"
   ]
  },
  {
   "cell_type": "code",
   "execution_count": 36,
   "metadata": {
    "scrolled": true
   },
   "outputs": [
    {
     "name": "stdout",
     "output_type": "stream",
     "text": [
      "naiveBaysClassifier: neutral\n"
     ]
    }
   ],
   "source": [
    "print(\"naiveBaysClassifier: \"+cl.classify(\"Stonks going up\"))"
   ]
  },
  {
   "cell_type": "code",
   "execution_count": 37,
   "metadata": {},
   "outputs": [],
   "source": [
    "\n",
    "from sklearn.feature_extraction.text import TfidfVectorizer\n",
    "\n",
    "import time\n",
    "from sklearn import svm\n",
    "from sklearn.metrics import classification_report\n",
    "\n",
    "import pandas as pd"
   ]
  },
  {
   "cell_type": "code",
   "execution_count": 57,
   "metadata": {},
   "outputs": [],
   "source": [
    "trainData = pd.read_csv(\"stripped.csv\")\n",
    "testData = pd.read_csv(\"April23stripped.csv\")\n",
    "\n",
    "#drop neutral rows\n",
    "#indexNames = trainData[ trainData['label'] == 'neutral' ].index\n",
    "#trainData.drop(indexNames , inplace=True)"
   ]
  },
  {
   "cell_type": "code",
   "execution_count": 58,
   "metadata": {},
   "outputs": [
    {
     "data": {
      "text/html": [
       "<div>\n",
       "<style scoped>\n",
       "    .dataframe tbody tr th:only-of-type {\n",
       "        vertical-align: middle;\n",
       "    }\n",
       "\n",
       "    .dataframe tbody tr th {\n",
       "        vertical-align: top;\n",
       "    }\n",
       "\n",
       "    .dataframe thead th {\n",
       "        text-align: right;\n",
       "    }\n",
       "</style>\n",
       "<table border=\"1\" class=\"dataframe\">\n",
       "  <thead>\n",
       "    <tr style=\"text-align: right;\">\n",
       "      <th></th>\n",
       "      <th>comment</th>\n",
       "      <th>label</th>\n",
       "    </tr>\n",
       "  </thead>\n",
       "  <tbody>\n",
       "    <tr>\n",
       "      <td>0</td>\n",
       "      <td>I'll be here, sitting in stunned disbelief as ...</td>\n",
       "      <td>neg</td>\n",
       "    </tr>\n",
       "    <tr>\n",
       "      <td>1</td>\n",
       "      <td>As grumpy bear, I decided to go with the flow ...</td>\n",
       "      <td>neg</td>\n",
       "    </tr>\n",
       "    <tr>\n",
       "      <td>7</td>\n",
       "      <td>What if trump came out to the presser with a D...</td>\n",
       "      <td>pos</td>\n",
       "    </tr>\n",
       "    <tr>\n",
       "      <td>8</td>\n",
       "      <td>Day 20 of the super great depression. Stock st...</td>\n",
       "      <td>pos</td>\n",
       "    </tr>\n",
       "    <tr>\n",
       "      <td>9</td>\n",
       "      <td>Market crashes 30% over a pandemic.  Market re...</td>\n",
       "      <td>neg</td>\n",
       "    </tr>\n",
       "    <tr>\n",
       "      <td>10</td>\n",
       "      <td>Tomorow I'm going to stare at my puts while th...</td>\n",
       "      <td>neg</td>\n",
       "    </tr>\n",
       "    <tr>\n",
       "      <td>14</td>\n",
       "      <td>It feels like January again. \\n\\nTesla mooning...</td>\n",
       "      <td>pos</td>\n",
       "    </tr>\n",
       "    <tr>\n",
       "      <td>17</td>\n",
       "      <td>Ready for red futures that go green at 9:25am,...</td>\n",
       "      <td>pos</td>\n",
       "    </tr>\n",
       "    <tr>\n",
       "      <td>21</td>\n",
       "      <td>TSLA $1000 by Friday</td>\n",
       "      <td>pos</td>\n",
       "    </tr>\n",
       "    <tr>\n",
       "      <td>23</td>\n",
       "      <td>Spy 290 tomorrow 300 friday</td>\n",
       "      <td>pos</td>\n",
       "    </tr>\n",
       "    <tr>\n",
       "      <td>24</td>\n",
       "      <td>I bought calls today but told everyone that I ...</td>\n",
       "      <td>pos</td>\n",
       "    </tr>\n",
       "    <tr>\n",
       "      <td>25</td>\n",
       "      <td>Michael Burry thinks parents take their kids t...</td>\n",
       "      <td>pos</td>\n",
       "    </tr>\n",
       "    <tr>\n",
       "      <td>27</td>\n",
       "      <td>Great. Just delivered my mom to ER with COVID ...</td>\n",
       "      <td>neg</td>\n",
       "    </tr>\n",
       "    <tr>\n",
       "      <td>29</td>\n",
       "      <td>If we actually free fall back down and touch l...</td>\n",
       "      <td>pos</td>\n",
       "    </tr>\n",
       "    <tr>\n",
       "      <td>30</td>\n",
       "      <td>Treasury, Airlines Reach Agreement on Aid http...</td>\n",
       "      <td>pos</td>\n",
       "    </tr>\n",
       "    <tr>\n",
       "      <td>32</td>\n",
       "      <td>Listen boys. \\n\\nTSLA just got upgraded to 864...</td>\n",
       "      <td>pos</td>\n",
       "    </tr>\n",
       "    <tr>\n",
       "      <td>35</td>\n",
       "      <td>I'm all in on meme stocks. I can't wait to get...</td>\n",
       "      <td>pos</td>\n",
       "    </tr>\n",
       "    <tr>\n",
       "      <td>37</td>\n",
       "      <td>*Breaking: Drill Team 6 deemed non essential, ...</td>\n",
       "      <td>pos</td>\n",
       "    </tr>\n",
       "    <tr>\n",
       "      <td>40</td>\n",
       "      <td>Whoa spike in deaths today ~6000. SPY to 300 t...</td>\n",
       "      <td>pos</td>\n",
       "    </tr>\n",
       "    <tr>\n",
       "      <td>43</td>\n",
       "      <td>If TSLA spikes again, TSLA puts.</td>\n",
       "      <td>neg</td>\n",
       "    </tr>\n",
       "    <tr>\n",
       "      <td>46</td>\n",
       "      <td>WSB is back to TSLA and SPCE plays. Corona can...</td>\n",
       "      <td>pos</td>\n",
       "    </tr>\n",
       "    <tr>\n",
       "      <td>48</td>\n",
       "      <td>Haven’t been particularly bullish or bearish t...</td>\n",
       "      <td>neg</td>\n",
       "    </tr>\n",
       "    <tr>\n",
       "      <td>49</td>\n",
       "      <td>Fucking love the straight pump by Donnie!! Thi...</td>\n",
       "      <td>pos</td>\n",
       "    </tr>\n",
       "    <tr>\n",
       "      <td>56</td>\n",
       "      <td>Futures mean nothing as a bear\\n\\nSeeing limit...</td>\n",
       "      <td>neg</td>\n",
       "    </tr>\n",
       "    <tr>\n",
       "      <td>57</td>\n",
       "      <td>This thread is moving so fast no one will know...</td>\n",
       "      <td>neg</td>\n",
       "    </tr>\n",
       "    <tr>\n",
       "      <td>58</td>\n",
       "      <td>Trump listing company names like the end credi...</td>\n",
       "      <td>pos</td>\n",
       "    </tr>\n",
       "    <tr>\n",
       "      <td>59</td>\n",
       "      <td>did he really just pump every company in the s...</td>\n",
       "      <td>pos</td>\n",
       "    </tr>\n",
       "    <tr>\n",
       "      <td>62</td>\n",
       "      <td>Anyone else capitulated and bought calls but n...</td>\n",
       "      <td>neg</td>\n",
       "    </tr>\n",
       "    <tr>\n",
       "      <td>65</td>\n",
       "      <td>This could be unpopular but Im not ready for T...</td>\n",
       "      <td>pos</td>\n",
       "    </tr>\n",
       "    <tr>\n",
       "      <td>66</td>\n",
       "      <td>Switched from puts to calls today. Red tomorro...</td>\n",
       "      <td>pos</td>\n",
       "    </tr>\n",
       "    <tr>\n",
       "      <td>70</td>\n",
       "      <td>dude is just gonna read every company name in ...</td>\n",
       "      <td>pos</td>\n",
       "    </tr>\n",
       "    <tr>\n",
       "      <td>73</td>\n",
       "      <td>If it’s just as green tomorrow, I might jump o...</td>\n",
       "      <td>neg</td>\n",
       "    </tr>\n",
       "  </tbody>\n",
       "</table>\n",
       "</div>"
      ],
      "text/plain": [
       "                                              comment label\n",
       "0   I'll be here, sitting in stunned disbelief as ...   neg\n",
       "1   As grumpy bear, I decided to go with the flow ...   neg\n",
       "7   What if trump came out to the presser with a D...   pos\n",
       "8   Day 20 of the super great depression. Stock st...   pos\n",
       "9   Market crashes 30% over a pandemic.  Market re...   neg\n",
       "10  Tomorow I'm going to stare at my puts while th...   neg\n",
       "14  It feels like January again. \\n\\nTesla mooning...   pos\n",
       "17  Ready for red futures that go green at 9:25am,...   pos\n",
       "21                               TSLA $1000 by Friday   pos\n",
       "23                        Spy 290 tomorrow 300 friday   pos\n",
       "24  I bought calls today but told everyone that I ...   pos\n",
       "25  Michael Burry thinks parents take their kids t...   pos\n",
       "27  Great. Just delivered my mom to ER with COVID ...   neg\n",
       "29  If we actually free fall back down and touch l...   pos\n",
       "30  Treasury, Airlines Reach Agreement on Aid http...   pos\n",
       "32  Listen boys. \\n\\nTSLA just got upgraded to 864...   pos\n",
       "35  I'm all in on meme stocks. I can't wait to get...   pos\n",
       "37  *Breaking: Drill Team 6 deemed non essential, ...   pos\n",
       "40  Whoa spike in deaths today ~6000. SPY to 300 t...   pos\n",
       "43                   If TSLA spikes again, TSLA puts.   neg\n",
       "46  WSB is back to TSLA and SPCE plays. Corona can...   pos\n",
       "48  Haven’t been particularly bullish or bearish t...   neg\n",
       "49  Fucking love the straight pump by Donnie!! Thi...   pos\n",
       "56  Futures mean nothing as a bear\\n\\nSeeing limit...   neg\n",
       "57  This thread is moving so fast no one will know...   neg\n",
       "58  Trump listing company names like the end credi...   pos\n",
       "59  did he really just pump every company in the s...   pos\n",
       "62  Anyone else capitulated and bought calls but n...   neg\n",
       "65  This could be unpopular but Im not ready for T...   pos\n",
       "66  Switched from puts to calls today. Red tomorro...   pos\n",
       "70  dude is just gonna read every company name in ...   pos\n",
       "73  If it’s just as green tomorrow, I might jump o...   neg"
      ]
     },
     "execution_count": 58,
     "metadata": {},
     "output_type": "execute_result"
    }
   ],
   "source": [
    "trainData"
   ]
  },
  {
   "cell_type": "code",
   "execution_count": 59,
   "metadata": {},
   "outputs": [],
   "source": [
    "\n",
    "vectorizer = TfidfVectorizer(min_df = 5,\n",
    "                             max_df = 0.8,\n",
    "                             sublinear_tf = True,\n",
    "                             use_idf = True)\n",
    "\n",
    "train_vectors = vectorizer.fit_transform(trainData['comment'])\n",
    "test_vectors = vectorizer.transform(testData['comment'])"
   ]
  },
  {
   "cell_type": "code",
   "execution_count": 60,
   "metadata": {},
   "outputs": [],
   "source": [
    "classifier_linear = svm.SVC(kernel='linear')\n",
    "t0 = time.time()\n",
    "classifier_linear.fit(train_vectors, trainData['label'])\n",
    "t1 = time.time()\n",
    "prediction_linear = classifier_linear.predict(test_vectors)\n",
    "t2 = time.time()\n",
    "time_linear_train = t1-t0\n",
    "time_linear_predict = t2-t1\n",
    "\n"
   ]
  },
  {
   "cell_type": "code",
   "execution_count": 61,
   "metadata": {},
   "outputs": [
    {
     "name": "stdout",
     "output_type": "stream",
     "text": [
      "Results for SVC(kernel=linear)\n",
      "Training time: 0.003992s; Prediction time: 0.000000s\n",
      "positive:  {'precision': 0.10810810810810811, 'recall': 0.9230769230769231, 'f1-score': 0.1935483870967742, 'support': 13}\n",
      "negative:  {'precision': 0.5, 'recall': 0.1, 'f1-score': 0.16666666666666669, 'support': 20}\n",
      "neutral:  {'precision': 0.0, 'recall': 0.0, 'f1-score': 0.0, 'support': 82}\n"
     ]
    },
    {
     "name": "stderr",
     "output_type": "stream",
     "text": [
      "c:\\users\\nerses\\appdata\\local\\programs\\python\\python37\\lib\\site-packages\\sklearn\\metrics\\classification.py:1437: UndefinedMetricWarning: Precision and F-score are ill-defined and being set to 0.0 in labels with no predicted samples.\n",
      "  'precision', 'predicted', average, warn_for)\n"
     ]
    }
   ],
   "source": [
    "# results\n",
    "print(\"Results for SVC(kernel=linear)\")\n",
    "print(\"Training time: %fs; Prediction time: %fs\" % (time_linear_train, time_linear_predict))\n",
    "report = classification_report(testData['label'], prediction_linear, output_dict=True)\n",
    "print('positive: ', report['pos'])\n",
    "print('negative: ', report['neg'])\n",
    "print('neutral: ', report['neutral'])"
   ]
  }
 ],
 "metadata": {
  "kernelspec": {
   "display_name": "Python 3",
   "language": "python",
   "name": "python3"
  },
  "language_info": {
   "codemirror_mode": {
    "name": "ipython",
    "version": 3
   },
   "file_extension": ".py",
   "mimetype": "text/x-python",
   "name": "python",
   "nbconvert_exporter": "python",
   "pygments_lexer": "ipython3",
   "version": "3.7.7"
  }
 },
 "nbformat": 4,
 "nbformat_minor": 2
}
