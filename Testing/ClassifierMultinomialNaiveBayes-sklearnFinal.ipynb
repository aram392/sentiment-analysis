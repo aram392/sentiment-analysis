{
 "cells": [
  {
   "cell_type": "code",
   "execution_count": 775,
   "metadata": {},
   "outputs": [],
   "source": [
    "from sklearn.feature_extraction.text import TfidfVectorizer\n",
    "from sklearn.feature_extraction.text import CountVectorizer\n",
    "from sklearn.naive_bayes import MultinomialNB\n",
    "from sklearn.model_selection import train_test_split, GridSearchCV\n",
    "\n",
    "\n",
    "import nltk\n",
    "import time\n",
    "import string\n",
    "\n",
    "from sklearn import svm\n",
    "from sklearn.metrics import classification_report\n",
    "from sklearn.metrics import confusion_matrix\n",
    "import numpy as np\n",
    "\n",
    "import pandas as pd"
   ]
  },
  {
   "cell_type": "code",
   "execution_count": 432,
   "metadata": {},
   "outputs": [],
   "source": [
    "collectedData = pd.read_csv(\"csvFiles/combined-ratings.csv\")\n",
    "artificialData = pd.read_csv(\"csvFiles/artificialData.csv\")\n",
    "\n",
    "combinedData = pd.concat([collectedData, artificialData])\n",
    "\n",
    "combinedDataDF = combinedData['comment']\n",
    "ratingDataDF = combinedData['label']\n",
    "\n",
    "ratingDataArray = ratingDataDF.values\n"
   ]
  },
  {
   "cell_type": "code",
   "execution_count": 867,
   "metadata": {},
   "outputs": [],
   "source": [
    "import re\n",
    "def preprocess_text(text):\n",
    "    text = re.sub('((www\\.[^\\s]+)|(https?://[^\\s]+))','URL', text)\n",
    "    text = text.lower()\n",
    "    text = re.sub('r/','', text)\n",
    "    text = re.sub('\\[.*?\\]','',text) # the characters in the bracket will be replaced with nothing\n",
    "    text = re.sub('[%s]' % re.escape(string.punctuation),' ', text) # Punctuation replaced with nothing\n",
    "    text = re.sub('\\w*\\d\\w*', '', text) # digits replaced with nothing\n",
    "    return text.strip()\n",
    "data = [preprocess_text(t) for t in combinedDataDF]"
   ]
  },
  {
   "cell_type": "code",
   "execution_count": 868,
   "metadata": {},
   "outputs": [],
   "source": [
    "#creating test and train\n",
    "#x_train, x_test, y_train, y_test = train_test_split(combinedDataDF, ratingDataArray, test_size=0.15, random_state=42)\n",
    "\n",
    "x_train, x_test, y_train, y_test = train_test_split(data, ratingDataArray, test_size=0.25, random_state=42)"
   ]
  },
  {
   "cell_type": "code",
   "execution_count": 963,
   "metadata": {},
   "outputs": [],
   "source": [
    "cv_text = CountVectorizer( ngram_range=(1, 2), min_df=2,max_df=.9, max_features=100)\n",
    "#cv_text = CountVectorizer(tokenizer=LemmaTokenizer(),max_features = 1000,stop_words = 'english')\n",
    "\n",
    "x_train_text = cv_text.fit_transform(x_train)\n",
    "x_test_text = cv_text.transform(x_test)"
   ]
  },
  {
   "cell_type": "code",
   "execution_count": 964,
   "metadata": {},
   "outputs": [
    {
     "name": "stdout",
     "output_type": "stream",
     "text": [
      "100\n"
     ]
    }
   ],
   "source": [
    "print(len(cv_text.get_feature_names()))"
   ]
  },
  {
   "cell_type": "code",
   "execution_count": 965,
   "metadata": {},
   "outputs": [],
   "source": [
    "x_train_text_df = pd.DataFrame(x_train_text.todense(), columns=[x+'_comment' for x in cv_text.get_feature_names()])"
   ]
  },
  {
   "cell_type": "code",
   "execution_count": 966,
   "metadata": {},
   "outputs": [],
   "source": [
    "x_test_text_df = pd.DataFrame(x_test_text.todense(), columns=[x+'_text' for x in cv_text.get_feature_names()])"
   ]
  },
  {
   "cell_type": "code",
   "execution_count": 967,
   "metadata": {},
   "outputs": [],
   "source": [
    "vecced_train_reddit_posts = x_train_text_df\n",
    "vecced_test_reddit_posts = x_test_text_df"
   ]
  },
  {
   "cell_type": "code",
   "execution_count": 968,
   "metadata": {},
   "outputs": [],
   "source": [
    "mn_params = {\n",
    "            'fit_prior': [True],\n",
    "            'alpha': [0, 0.5, 1]}\n",
    "        \n",
    "M = GridSearchCV(MultinomialNB(),\n",
    "                mn_params,\n",
    "                cv = 5,\n",
    "                verbose = 1,\n",
    "                n_jobs = -1)"
   ]
  },
  {
   "cell_type": "code",
   "execution_count": 969,
   "metadata": {},
   "outputs": [
    {
     "name": "stdout",
     "output_type": "stream",
     "text": [
      "Fitting 5 folds for each of 3 candidates, totalling 15 fits\n"
     ]
    },
    {
     "name": "stderr",
     "output_type": "stream",
     "text": [
      "[Parallel(n_jobs=-1)]: Using backend LokyBackend with 4 concurrent workers.\n",
      "[Parallel(n_jobs=-1)]: Done  15 out of  15 | elapsed:    0.8s finished\n"
     ]
    },
    {
     "data": {
      "text/plain": [
       "GridSearchCV(cv=5, error_score='raise-deprecating',\n",
       "             estimator=MultinomialNB(alpha=1.0, class_prior=None,\n",
       "                                     fit_prior=True),\n",
       "             iid='warn', n_jobs=-1,\n",
       "             param_grid={'alpha': [0, 0.5, 1], 'fit_prior': [True]},\n",
       "             pre_dispatch='2*n_jobs', refit=True, return_train_score=False,\n",
       "             scoring=None, verbose=1)"
      ]
     },
     "execution_count": 969,
     "metadata": {},
     "output_type": "execute_result"
    }
   ],
   "source": [
    "M.fit(vecced_train_reddit_posts.values, y_train)"
   ]
  },
  {
   "cell_type": "code",
   "execution_count": 970,
   "metadata": {},
   "outputs": [],
   "source": [
    "predictions = M.predict(vecced_test_reddit_posts.values)"
   ]
  },
  {
   "cell_type": "code",
   "execution_count": 971,
   "metadata": {},
   "outputs": [
    {
     "name": "stdout",
     "output_type": "stream",
     "text": [
      "Train score = 0.7323943661971831\n",
      "Test score = 0.6421052631578947\n",
      "[[  6   0  22   0   1]\n",
      " [  0   1  13   0   0]\n",
      " [  8   2 110   1   1]\n",
      " [  2   0   8   0   0]\n",
      " [  1   0   9   0   5]]\n"
     ]
    }
   ],
   "source": [
    "from sklearn.metrics import accuracy_score, f1_score, confusion_matrix\n",
    "print(f'Train score = {M.score(vecced_train_reddit_posts.values, y_train)}')\n",
    "print(f'Test score = {M.score(vecced_test_reddit_posts.values, y_test)}')\n",
    "print(confusion_matrix(y_test, predictions))"
   ]
  },
  {
   "cell_type": "code",
   "execution_count": 972,
   "metadata": {},
   "outputs": [
    {
     "name": "stdout",
     "output_type": "stream",
     "text": [
      "[5]\n",
      "[1]\n",
      "[3]\n",
      "[5]\n"
     ]
    }
   ],
   "source": [
    "print(M.predict(cv_text.transform([\"Buy Calls\"])))\n",
    "print(M.predict(cv_text.transform([\"Buy Puts\"])))\n",
    "print(M.predict(cv_text.transform([\"SPY Puts\"])))\n",
    "print(M.predict(cv_text.transform([\"SPY Calls\"])))"
   ]
  },
  {
   "cell_type": "code",
   "execution_count": 973,
   "metadata": {},
   "outputs": [],
   "source": [
    "import pickle\n",
    "f = open('MultinomialNB.pickle', 'wb')\n",
    "pickle.dump(M, f)\n",
    "f.close()"
   ]
  },
  {
   "cell_type": "code",
   "execution_count": 974,
   "metadata": {},
   "outputs": [],
   "source": [
    "f = open('CountVectorizer.pickle', 'wb')\n",
    "pickle.dump(cv_text, f)\n",
    "f.close()"
   ]
  },
  {
   "cell_type": "code",
   "execution_count": null,
   "metadata": {},
   "outputs": [],
   "source": []
  },
  {
   "cell_type": "code",
   "execution_count": null,
   "metadata": {},
   "outputs": [],
   "source": []
  },
  {
   "cell_type": "code",
   "execution_count": null,
   "metadata": {},
   "outputs": [],
   "source": []
  },
  {
   "cell_type": "code",
   "execution_count": null,
   "metadata": {},
   "outputs": [],
   "source": []
  }
 ],
 "metadata": {
  "kernelspec": {
   "display_name": "Python 3",
   "language": "python",
   "name": "python3"
  },
  "language_info": {
   "codemirror_mode": {
    "name": "ipython",
    "version": 3
   },
   "file_extension": ".py",
   "mimetype": "text/x-python",
   "name": "python",
   "nbconvert_exporter": "python",
   "pygments_lexer": "ipython3",
   "version": "3.7.7"
  }
 },
 "nbformat": 4,
 "nbformat_minor": 2
}
