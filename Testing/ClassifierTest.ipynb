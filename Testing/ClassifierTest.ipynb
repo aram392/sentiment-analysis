{
 "cells": [
  {
   "cell_type": "code",
   "execution_count": 1,
   "metadata": {},
   "outputs": [],
   "source": [
    "from textblob import TextBlob\n"
   ]
  },
  {
   "cell_type": "code",
   "execution_count": 29,
   "metadata": {},
   "outputs": [],
   "source": [
    "train =[\n",
    "    ('This bear needs a tree to sleep under 🐻','neg'),\n",
    "    ('Green baby, green.','pos'),\n",
    "    ('LETS GO, GREEN DAY, MY ACCOUNT NEEDS TO RECOVER 😭','pos'),\n",
    "    ('Future is up bigly. Bears r fuk','pos'),\n",
    "    ('If we are not red tmrw, I SWEAR I AM NEVER USING TA AGAIN','neg'),\n",
    "    ('Sir, this is a casino. Hit or stay.','neutral'),\n",
    "    ('Snap will fall hard Monday :)','neg'),\n",
    "    ('I demand to speak to the manager of coronavirus','neutral'),\n",
    "    ('Futures blood red!!','neg'),\n",
    "    ('Futures green (+0.05) Bears are so fucked','pos')\n",
    "]\n",
    "test =[\n",
    "    ('Powell is out in the woods, bear hunting.','pos'),\n",
    "    ('Oil drilling = futures going up','pos'),\n",
    "    ('Limit up 🌝🌝🌝🌝before open','pos'),\n",
    "    ('If you didn\\'t buy snap puts today, u should quit trading','neg'),\n",
    "    ('Sir, this is a casino. Hit or stay.','neutral')\n",
    "]"
   ]
  },
  {
   "cell_type": "code",
   "execution_count": 30,
   "metadata": {},
   "outputs": [],
   "source": [
    "from textblob.classifiers import NaiveBayesClassifier\n",
    "cl = NaiveBayesClassifier(train)"
   ]
  },
  {
   "cell_type": "code",
   "execution_count": 36,
   "metadata": {},
   "outputs": [
    {
     "name": "stdout",
     "output_type": "stream",
     "text": [
      "expect:pos pred:pos correct Powell is out in the woods, bear hunting.\n",
      "expect:pos pred:pos correct Oil drilling = futures going up\n",
      "expect:pos pred:pos correct Limit up 🌝🌝🌝🌝before open\n",
      "expect:neg pred:pos incorrect If you didn't buy snap puts today, u should quit trading\n",
      "expect:neutral pred:pos incorrect Sir, this is a casino. Hit or stay.\n"
     ]
    }
   ],
   "source": [
    "for comment in test:\n",
    "    prediction=(cl.classify(comment))\n",
    "    if(comment[1]==prediction):\n",
    "        print('expect:'+comment[1]+' pred:'+prediction+' correct ' + comment[0])\n",
    "    else:    \n",
    "        print('expect:'+comment[1]+' pred:'+prediction+' incorrect ' + comment[0])"
   ]
  }
 ],
 "metadata": {
  "kernelspec": {
   "display_name": "Python 3",
   "language": "python",
   "name": "python3"
  },
  "language_info": {
   "codemirror_mode": {
    "name": "ipython",
    "version": 3
   },
   "file_extension": ".py",
   "mimetype": "text/x-python",
   "name": "python",
   "nbconvert_exporter": "python",
   "pygments_lexer": "ipython3",
   "version": "3.7.4"
  }
 },
 "nbformat": 4,
 "nbformat_minor": 2
}
