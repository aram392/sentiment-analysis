{
 "cells": [
  {
   "cell_type": "code",
   "execution_count": 2,
   "metadata": {},
   "outputs": [],
   "source": [
    "from sklearn.feature_extraction.text import TfidfVectorizer\n",
    "import nltk\n",
    "import time\n",
    "from sklearn import svm\n",
    "from sklearn.metrics import classification_report\n",
    "\n",
    "import pandas as pd"
   ]
  },
  {
   "cell_type": "code",
   "execution_count": 21,
   "metadata": {},
   "outputs": [],
   "source": [
    "trainData = pd.read_csv(\"csvFiles/combined_csv.csv\")\n",
    "testData = pd.read_csv(\"csvFiles/April15stripped.csv\")\n",
    "\n",
    "#drop neutral rows\n",
    "#indexNames = trainData[ trainData['label'] == 'neutral' ].index\n",
    "#trainData.drop(indexNames , inplace=True)"
   ]
  },
  {
   "cell_type": "code",
   "execution_count": 22,
   "metadata": {},
   "outputs": [],
   "source": [
    "trainData.sort_values(by=['label'])\n",
    "testData.sort_values(by=['label'])\n",
    "pos=trainData[trainData['label']==\"pos\"]\n",
    "neg=trainData[trainData['label']==\"neg\"]\n",
    "neutral=trainData[trainData['label']==\"neutral\"]"
   ]
  },
  {
   "cell_type": "code",
   "execution_count": 23,
   "metadata": {},
   "outputs": [
    {
     "name": "stdout",
     "output_type": "stream",
     "text": [
      "comment    52\n",
      "label      52\n",
      "dtype: int64\n",
      "comment    59\n",
      "label      59\n",
      "dtype: int64\n",
      "comment    504\n",
      "label      504\n",
      "dtype: int64\n"
     ]
    }
   ],
   "source": [
    "print(pos.count())\n",
    "print(neg.count())\n",
    "print(neutral.count())"
   ]
  },
  {
   "cell_type": "code",
   "execution_count": 31,
   "metadata": {},
   "outputs": [
    {
     "name": "stdout",
     "output_type": "stream",
     "text": [
      "52\n"
     ]
    }
   ],
   "source": [
    "sample_size= min(pos.shape[0],neutral.shape[0],neg.shape[0])\n",
    "print(sample_size)"
   ]
  },
  {
   "cell_type": "code",
   "execution_count": 40,
   "metadata": {},
   "outputs": [],
   "source": [
    "pos=pos.sample(sample_size)\n",
    "neg=neg.sample(sample_size)\n",
    "neutral=neutral.sample(sample_size)"
   ]
  },
  {
   "cell_type": "code",
   "execution_count": 41,
   "metadata": {},
   "outputs": [
    {
     "data": {
      "text/html": [
       "<div>\n",
       "<style scoped>\n",
       "    .dataframe tbody tr th:only-of-type {\n",
       "        vertical-align: middle;\n",
       "    }\n",
       "\n",
       "    .dataframe tbody tr th {\n",
       "        vertical-align: top;\n",
       "    }\n",
       "\n",
       "    .dataframe thead th {\n",
       "        text-align: right;\n",
       "    }\n",
       "</style>\n",
       "<table border=\"1\" class=\"dataframe\">\n",
       "  <thead>\n",
       "    <tr style=\"text-align: right;\">\n",
       "      <th></th>\n",
       "      <th>comment</th>\n",
       "      <th>label</th>\n",
       "    </tr>\n",
       "  </thead>\n",
       "  <tbody>\n",
       "    <tr>\n",
       "      <td>316</td>\n",
       "      <td>Gap up to $300 spy right?</td>\n",
       "      <td>pos</td>\n",
       "    </tr>\n",
       "    <tr>\n",
       "      <td>236</td>\n",
       "      <td>why do i have a bad feeling the past 2 days we...</td>\n",
       "      <td>pos</td>\n",
       "    </tr>\n",
       "    <tr>\n",
       "      <td>575</td>\n",
       "      <td>AMZN will hit $3k soon.\\n\\n\\- Massive conversi...</td>\n",
       "      <td>pos</td>\n",
       "    </tr>\n",
       "    <tr>\n",
       "      <td>598</td>\n",
       "      <td>I'm gonna quit my job so unemployment goes up....</td>\n",
       "      <td>pos</td>\n",
       "    </tr>\n",
       "    <tr>\n",
       "      <td>408</td>\n",
       "      <td>Dick n ball shaped recovery confirmed</td>\n",
       "      <td>pos</td>\n",
       "    </tr>\n",
       "    <tr>\n",
       "      <td>...</td>\n",
       "      <td>...</td>\n",
       "      <td>...</td>\n",
       "    </tr>\n",
       "    <tr>\n",
       "      <td>201</td>\n",
       "      <td>They just stopped bringing Fauci to this?</td>\n",
       "      <td>neutral</td>\n",
       "    </tr>\n",
       "    <tr>\n",
       "      <td>246</td>\n",
       "      <td>This “R Fuk” nonsense has to stop</td>\n",
       "      <td>neutral</td>\n",
       "    </tr>\n",
       "    <tr>\n",
       "      <td>17</td>\n",
       "      <td>Can I interest any of you fine gentlemen in so...</td>\n",
       "      <td>neutral</td>\n",
       "    </tr>\n",
       "    <tr>\n",
       "      <td>524</td>\n",
       "      <td>[this idiot bought $1.2m in amzn shares when h...</td>\n",
       "      <td>neutral</td>\n",
       "    </tr>\n",
       "    <tr>\n",
       "      <td>587</td>\n",
       "      <td>Oan reporter question incoming: Mr. President,...</td>\n",
       "      <td>neutral</td>\n",
       "    </tr>\n",
       "  </tbody>\n",
       "</table>\n",
       "<p>156 rows × 2 columns</p>\n",
       "</div>"
      ],
      "text/plain": [
       "                                               comment    label\n",
       "316                          Gap up to $300 spy right?      pos\n",
       "236  why do i have a bad feeling the past 2 days we...      pos\n",
       "575  AMZN will hit $3k soon.\\n\\n\\- Massive conversi...      pos\n",
       "598  I'm gonna quit my job so unemployment goes up....      pos\n",
       "408              Dick n ball shaped recovery confirmed      pos\n",
       "..                                                 ...      ...\n",
       "201          They just stopped bringing Fauci to this?  neutral\n",
       "246                  This “R Fuk” nonsense has to stop  neutral\n",
       "17   Can I interest any of you fine gentlemen in so...  neutral\n",
       "524  [this idiot bought $1.2m in amzn shares when h...  neutral\n",
       "587  Oan reporter question incoming: Mr. President,...  neutral\n",
       "\n",
       "[156 rows x 2 columns]"
      ]
     },
     "execution_count": 41,
     "metadata": {},
     "output_type": "execute_result"
    }
   ],
   "source": [
    "combine=[pos,neg,neutral]\n",
    "result= pd.concat(combine)\n",
    "result"
   ]
  },
  {
   "cell_type": "code",
   "execution_count": 42,
   "metadata": {},
   "outputs": [],
   "source": [
    "vectorizer = TfidfVectorizer(min_df = 5,\n",
    "                             max_df = 0.8,\n",
    "                             sublinear_tf = True,\n",
    "                             use_idf = True)\n",
    "\n",
    "\n",
    "\n",
    "train_vectors = vectorizer.fit_transform(result['comment'])\n",
    "test_vectors = vectorizer.transform(testData['comment'])"
   ]
  },
  {
   "cell_type": "code",
   "execution_count": 44,
   "metadata": {},
   "outputs": [],
   "source": [
    "classifier_linear = svm.SVC(kernel='linear')\n",
    "t0 = time.time()\n",
    "classifier_linear.fit(train_vectors, result['label'])\n",
    "t1 = time.time()\n",
    "prediction_linear = classifier_linear.predict(test_vectors)\n",
    "t2 = time.time()\n",
    "time_linear_train = t1-t0\n",
    "time_linear_predict = t2-t1"
   ]
  },
  {
   "cell_type": "code",
   "execution_count": 45,
   "metadata": {},
   "outputs": [
    {
     "name": "stdout",
     "output_type": "stream",
     "text": [
      "Results for SVC(kernel=linear)\n",
      "Training time: 0.003982s; Prediction time: 0.000998s\n",
      "positive:  {'precision': 0.4375, 'recall': 0.3333333333333333, 'f1-score': 0.37837837837837834, 'support': 21}\n",
      "negative:  {'precision': 0.21428571428571427, 'recall': 0.5454545454545454, 'f1-score': 0.30769230769230765, 'support': 11}\n",
      "neutral:  {'precision': 0.6333333333333333, 'recall': 0.4523809523809524, 'f1-score': 0.5277777777777778, 'support': 42}\n"
     ]
    }
   ],
   "source": [
    "# results\n",
    "print(\"Results for SVC(kernel=linear)\")\n",
    "print(\"Training time: %fs; Prediction time: %fs\" % (time_linear_train, time_linear_predict))\n",
    "report = classification_report(testData['label'], prediction_linear, output_dict=True)\n",
    "print('positive: ', report['pos'])\n",
    "print('negative: ', report['neg'])\n",
    "print('neutral: ', report['neutral'])"
   ]
  },
  {
   "cell_type": "code",
   "execution_count": null,
   "metadata": {},
   "outputs": [],
   "source": []
  }
 ],
 "metadata": {
  "kernelspec": {
   "display_name": "Python 3",
   "language": "python",
   "name": "python3"
  },
  "language_info": {
   "codemirror_mode": {
    "name": "ipython",
    "version": 3
   },
   "file_extension": ".py",
   "mimetype": "text/x-python",
   "name": "python",
   "nbconvert_exporter": "python",
   "pygments_lexer": "ipython3",
   "version": "3.7.7"
  }
 },
 "nbformat": 4,
 "nbformat_minor": 2
}
