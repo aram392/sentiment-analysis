{
 "cells": [
  {
   "cell_type": "code",
   "execution_count": null,
   "metadata": {},
   "outputs": [],
   "source": [
    "from textblob import TextBlob\n",
    "import nltk\n",
    "from textblob.classifiers import NaiveBayesClassifier"
   ]
  },
  {
   "cell_type": "code",
   "execution_count": null,
   "metadata": {},
   "outputs": [],
   "source": [
    "filename=\"csvFiles/combined_csv\""
   ]
  },
  {
   "cell_type": "code",
   "execution_count": null,
   "metadata": {},
   "outputs": [],
   "source": [
    "test =[\n",
    "    ('Powell is out in the woods, bear hunting.','pos'),\n",
    "    ('Oil drilling = futures going up','pos'),\n",
    "    ('Limit up 🌝🌝🌝🌝before open','pos'),\n",
    "    ('If you didn\\'t buy snap puts today, u should quit trading','neg'),\n",
    "    ('Sir, this is a casino. Hit or stay.','neutral')\n",
    "]"
   ]
  },
  {
   "cell_type": "code",
   "execution_count": null,
   "metadata": {},
   "outputs": [],
   "source": [
    "with open(filename+'.csv', encoding=\"utf8\") as csvfile:\n",
    "        cl=NaiveBayesClassifier(csvfile, format=\"csv\")\n",
    "        dtc=DecisionTreeClassifier(csvfile,format=\"csv\")"
   ]
  },
  {
   "cell_type": "code",
   "execution_count": null,
   "metadata": {},
   "outputs": [],
   "source": [
    "for comment in test:\n",
    "    prediction=(cl.classify(comment))\n",
    "    if(comment[1]==prediction):\n",
    "        print('expect:'+comment[1]+' pred:'+prediction+' correct ' + comment[0])\n",
    "    else:    \n",
    "        print('expect:'+comment[1]+' pred:'+prediction+' incorrect ' + comment[0])"
   ]
  },
  {
   "cell_type": "code",
   "execution_count": null,
   "metadata": {},
   "outputs": [],
   "source": [
    "print(\"naiveBaysClassifier: \"+cl.classify(\"Stonks going up\"))"
   ]
  }
 ],
 "metadata": {
  "kernelspec": {
   "display_name": "Python 3",
   "language": "python",
   "name": "python3"
  },
  "language_info": {
   "codemirror_mode": {
    "name": "ipython",
    "version": 3
   },
   "file_extension": ".py",
   "mimetype": "text/x-python",
   "name": "python",
   "nbconvert_exporter": "python",
   "pygments_lexer": "ipython3",
   "version": "3.7.7"
  }
 },
 "nbformat": 4,
 "nbformat_minor": 2
}
